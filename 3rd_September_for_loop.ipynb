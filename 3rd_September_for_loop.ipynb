{
 "cells": [
  {
   "cell_type": "code",
   "execution_count": 1,
   "id": "376e02b8-59cc-4e34-ad09-6a2af0f5b431",
   "metadata": {},
   "outputs": [],
   "source": [
    "# Basic Level:\n"
   ]
  },
  {
   "cell_type": "code",
   "execution_count": 3,
   "id": "e495816a-b99e-440a-9cbf-61105ff5e9ac",
   "metadata": {},
   "outputs": [
    {
     "name": "stdout",
     "output_type": "stream",
     "text": [
      "1\n",
      "2\n",
      "3\n",
      "4\n",
      "5\n",
      "6\n",
      "7\n",
      "8\n",
      "9\n",
      "10\n"
     ]
    }
   ],
   "source": [
    "# 1. Write a Python program to print the numbers from 1 to 10 using a `for` loop.\n",
    "\n",
    "for i in range (1,11):\n",
    "    print(i)\n",
    "    "
   ]
  },
  {
   "cell_type": "code",
   "execution_count": 8,
   "id": "8e7273f2-99ba-46e5-850e-7f32eb199a83",
   "metadata": {},
   "outputs": [
    {
     "name": "stdout",
     "output_type": "stream",
     "text": [
      "sum of the list is 21\n"
     ]
    }
   ],
   "source": [
    "# 2. Create a program that calculates the sum of all numbers in a list using a `for` loop.\n",
    "\n",
    "l = [1,2,3,4,5,6]\n",
    "sum = 0\n",
    "\n",
    "for i in l:\n",
    "    sum = sum + i\n",
    "print(f\"sum of the list is {sum}\")"
   ]
  },
  {
   "cell_type": "code",
   "execution_count": 11,
   "id": "d31b3645-bc86-4f61-b41b-9ed562038ced",
   "metadata": {},
   "outputs": [
    {
     "name": "stdin",
     "output_type": "stream",
     "text": [
      "Enter a string:  pwskills\n"
     ]
    },
    {
     "name": "stdout",
     "output_type": "stream",
     "text": [
      "sllikswp"
     ]
    }
   ],
   "source": [
    "# 3. Write a program to print the characters of a string in reverse order using a `for` loop.\n",
    "\n",
    "a = input(\"Enter a string: \")\n",
    "\n",
    "for i in reversed (a):\n",
    "    print(i, end = \"\" )"
   ]
  },
  {
   "cell_type": "code",
   "execution_count": 12,
   "id": "3c7d9d71-bbce-47d4-ab19-47e967982fc8",
   "metadata": {},
   "outputs": [
    {
     "name": "stdin",
     "output_type": "stream",
     "text": [
      "Enter a number:  5\n"
     ]
    },
    {
     "name": "stdout",
     "output_type": "stream",
     "text": [
      "The factorial of 5 is: 120\n"
     ]
    }
   ],
   "source": [
    "# 4. Develop a program that finds the factorial of a given number using a `for` loop.\n",
    "\n",
    "# Input: The number for which factorial needs to be calculated\n",
    "number = int(input(\"Enter a number: \"))\n",
    "\n",
    "# Initialize the factorial variable to 1\n",
    "factorial = 1\n",
    "\n",
    "# Calculate the factorial using a for loop\n",
    "for i in range(1, number + 1):\n",
    "    factorial *= i\n",
    "\n",
    "# Print the factorial of the given number\n",
    "print(f\"The factorial of {number} is: {factorial}\")"
   ]
  },
  {
   "cell_type": "code",
   "execution_count": 17,
   "id": "0b1433f6-692f-434d-a649-f99918c340b3",
   "metadata": {},
   "outputs": [
    {
     "name": "stdin",
     "output_type": "stream",
     "text": [
      "Enter the number whose table you want to get printed:  5\n"
     ]
    },
    {
     "name": "stdout",
     "output_type": "stream",
     "text": [
      "5\n",
      "10\n",
      "15\n",
      "20\n",
      "25\n",
      "30\n",
      "35\n",
      "40\n",
      "45\n",
      "50\n"
     ]
    }
   ],
   "source": [
    "# 5. Create a program to print the multiplication table of a given number using a `for` loop.\n",
    "\n",
    "num = int(input(\"Enter the number whose table you want to get printed: \"))\n",
    "\n",
    "for i in range (1,11):\n",
    "    table = num * i\n",
    "    print(table)"
   ]
  },
  {
   "cell_type": "code",
   "execution_count": 20,
   "id": "12c23502-dec8-4e03-ba44-d74b0f8b375b",
   "metadata": {},
   "outputs": [
    {
     "name": "stdout",
     "output_type": "stream",
     "text": [
      "There are 11 even and 12 odd numbers in the list.\n"
     ]
    }
   ],
   "source": [
    "# 6. Write a program that counts the number of even and odd numbers in a list using a `for` loop.\n",
    "\n",
    "l = list(range(1,24))\n",
    "\n",
    "even = 0\n",
    "odd = 0\n",
    "\n",
    "for i in l:\n",
    "    if (i%2 == 0):\n",
    "        even += 1\n",
    "    else:\n",
    "        odd += 1\n",
    "        \n",
    "print(f\"There are {even} even and {odd} odd numbers in the list.\")\n"
   ]
  },
  {
   "cell_type": "code",
   "execution_count": 21,
   "id": "d9a44844-53cf-4a47-9182-18e9cc4b27a9",
   "metadata": {},
   "outputs": [
    {
     "name": "stdout",
     "output_type": "stream",
     "text": [
      "Square of i is 1\n",
      "Square of i is 4\n",
      "Square of i is 9\n",
      "Square of i is 16\n",
      "Square of i is 25\n"
     ]
    }
   ],
   "source": [
    "# 7. Develop a program that prints the squares of numbers from 1 to 5 using a `for` loop.\n",
    "\n",
    "for i in range (1,6):\n",
    "    square = i*i\n",
    "    print(f\"Square of i is {square}\")\n",
    "    "
   ]
  },
  {
   "cell_type": "code",
   "execution_count": 22,
   "id": "31638a59-a3d9-40c0-b216-62a4cfc2b59e",
   "metadata": {},
   "outputs": [
    {
     "name": "stdin",
     "output_type": "stream",
     "text": [
      "Enter a string:  hello\n"
     ]
    },
    {
     "name": "stdout",
     "output_type": "stream",
     "text": [
      "The length of the string is: 5\n"
     ]
    }
   ],
   "source": [
    "# 8. Create a program to find the length of a string without using the `len()` function.\n",
    "\n",
    "input_string = input(\"Enter a string: \")\n",
    "\n",
    "# Initialize a variable to store the length of the string\n",
    "length = 0\n",
    "\n",
    "# Iterate through each character in the string\n",
    "for char in input_string:\n",
    "    length += 1\n",
    "\n",
    "# Print the length of the string\n",
    "print(f\"The length of the string is: {length}\")"
   ]
  },
  {
   "cell_type": "code",
   "execution_count": 24,
   "id": "a5f8c630-f673-403f-9fc8-d52fd477eae1",
   "metadata": {},
   "outputs": [
    {
     "name": "stdout",
     "output_type": "stream",
     "text": [
      "The average of the list is 621.5 \n"
     ]
    }
   ],
   "source": [
    "# 9. Write a program that calculates the average of a list of numbers using a `for` loop.\n",
    "\n",
    "l = list(range(11, 1234, 3))\n",
    "sum = 0\n",
    "\n",
    "for i in l:\n",
    "    sum += i\n",
    "    \n",
    "avg = sum/len(l)\n",
    "\n",
    "print(f\"The average of the list is {avg} \")"
   ]
  },
  {
   "cell_type": "code",
   "execution_count": 25,
   "id": "3db545b9-1a6f-4480-bc0d-ccc9e6eabc81",
   "metadata": {},
   "outputs": [
    {
     "name": "stdin",
     "output_type": "stream",
     "text": [
      "Enter the number of Fibonacci numbers to print:  10\n"
     ]
    },
    {
     "name": "stdout",
     "output_type": "stream",
     "text": [
      "The first 10 Fibonacci numbers are: [0, 1, 1, 2, 3, 5, 8, 13, 21, 34]\n"
     ]
    }
   ],
   "source": [
    "# 10. Develop a program that prints the first `n` Fibonacci numbers using a `for` loop.\n",
    "\n",
    "n = int(input(\"Enter the number of Fibonacci numbers to print: \"))\n",
    "\n",
    "# Initialize the first two Fibonacci numbers\n",
    "fibonacci_sequence = [0, 1]\n",
    "\n",
    "# Calculate and print the next Fibonacci numbers using a for loop\n",
    "for i in range(2, n):\n",
    "    next_fibonacci = fibonacci_sequence[i - 1] + fibonacci_sequence[i - 2]\n",
    "    fibonacci_sequence.append(next_fibonacci)\n",
    "\n",
    "# Print the Fibonacci sequence\n",
    "print(f\"The first {n} Fibonacci numbers are: {fibonacci_sequence}\")"
   ]
  },
  {
   "cell_type": "code",
   "execution_count": 26,
   "id": "d0d94baa-c793-45f3-8c1d-3e14eb2306a0",
   "metadata": {},
   "outputs": [],
   "source": [
    "# Intermediate Level:"
   ]
  },
  {
   "cell_type": "code",
   "execution_count": 29,
   "id": "5edac12f-d9f3-4797-8e3e-1a4480b444bd",
   "metadata": {},
   "outputs": [
    {
     "name": "stdin",
     "output_type": "stream",
     "text": [
      "Enter a list of elements separated by spaces:  1 2 34 5 6 7 6\n"
     ]
    },
    {
     "name": "stdout",
     "output_type": "stream",
     "text": [
      "The list contains duplicates.\n"
     ]
    }
   ],
   "source": [
    "# 11. Write a program to check if a given list contains any duplicates using a `for` loop.\n",
    "\n",
    "elements = input(\"Enter a list of elements separated by spaces: \").split()\n",
    "\n",
    "# Initialize a set to store unique elements\n",
    "unique_elements = set()\n",
    "\n",
    "# Flag to check for duplicates\n",
    "has_duplicates = False\n",
    "\n",
    "# Check for duplicates using a for loop\n",
    "for i in elements:\n",
    "    if i in unique_elements:\n",
    "        has_duplicates = True\n",
    "        break\n",
    "    else:\n",
    "        unique_elements.add(i)\n",
    "\n",
    "# Print the result\n",
    "if has_duplicates:\n",
    "    print(\"The list contains duplicates.\")\n",
    "else:\n",
    "    print(\"The list does not contain duplicates.\")"
   ]
  },
  {
   "cell_type": "code",
   "execution_count": 33,
   "id": "7d9d11e3-1ffa-4f56-a4f7-863358ed95d2",
   "metadata": {},
   "outputs": [
    {
     "name": "stdin",
     "output_type": "stream",
     "text": [
      "Enter the starting number of the range:  1\n",
      "Enter the ending number of the range:  20\n"
     ]
    },
    {
     "name": "stdout",
     "output_type": "stream",
     "text": [
      "Prime numbers in the range 1 to 20 are:\n",
      "2\n",
      "3\n",
      "5\n",
      "7\n",
      "11\n",
      "13\n",
      "17\n",
      "19\n"
     ]
    }
   ],
   "source": [
    "# 12. Create a program that prints the prime numbers in a given range using a `for` loop.\n",
    "\n",
    "# Input: Range of numbers\n",
    "start = int(input(\"Enter the starting number of the range: \"))\n",
    "end = int(input(\"Enter the ending number of the range: \"))\n",
    "\n",
    "# Print prime numbers in the given range using a for loop\n",
    "print(f\"Prime numbers in the range {start} to {end} are:\")\n",
    "\n",
    "for num in range(start, end + 1):\n",
    "    if num > 1:\n",
    "        is_prime = True\n",
    "        for i in range(2, int(num*0.5) + 1):\n",
    "            if num % i == 0:\n",
    "                is_prime = False\n",
    "                break\n",
    "        if is_prime:\n",
    "            print(num)\n",
    "        \n",
    "    "
   ]
  },
  {
   "cell_type": "code",
   "execution_count": 36,
   "id": "08eca1fa-ea36-47ef-91d1-33c9cd1ed4b5",
   "metadata": {},
   "outputs": [
    {
     "name": "stdin",
     "output_type": "stream",
     "text": [
      "Enter a string:  Kartikay\n"
     ]
    },
    {
     "name": "stdout",
     "output_type": "stream",
     "text": [
      " vowel in a given string is 3\n"
     ]
    }
   ],
   "source": [
    "# 13. Develop a program that counts the number of vowels in a string using a `for` loop.\n",
    "\n",
    "word = input(\"Enter a string: \").lower()\n",
    "vowel_count = 0\n",
    "\n",
    "for i in word:\n",
    "    if (i == \"a\" or i == \"e\" or i== \"i\" or i== \"o\" or i == \"u\"):\n",
    "        vowel_count += 1\n",
    "        \n",
    "print(f\" vowel in a given string is {vowel_count}\")"
   ]
  },
  {
   "cell_type": "code",
   "execution_count": 37,
   "id": "4916f8e1-87ec-415e-9575-77149cd1e5c4",
   "metadata": {},
   "outputs": [
    {
     "name": "stdin",
     "output_type": "stream",
     "text": [
      "Enter the number of rows:  3\n",
      "Enter the number of columns:  3\n",
      "Enter space-separated elements for row 1:  1 2 3\n",
      "Enter space-separated elements for row 2:  2 4 6\n",
      "Enter space-separated elements for row 3:  3 6 9\n"
     ]
    },
    {
     "name": "stdout",
     "output_type": "stream",
     "text": [
      "The maximum element in the 2D list is: 9\n"
     ]
    }
   ],
   "source": [
    "# 14. Write a program to find the maximum element in a 2D list using a nested `for` loop.\n",
    "\n",
    "# Input: 2D list\n",
    "rows = int(input(\"Enter the number of rows: \"))\n",
    "cols = int(input(\"Enter the number of columns: \"))\n",
    "\n",
    "# Initialize a 2D list\n",
    "matrix = []\n",
    "for i in range(rows):\n",
    "    row = [int(x) for x in input(f\"Enter space-separated elements for row {i + 1}: \").split()]\n",
    "    matrix.append(row)\n",
    "\n",
    "# Find the maximum element using a nested for loop\n",
    "max_element = matrix[0][0]\n",
    "\n",
    "for row in matrix:\n",
    "    for element in row:\n",
    "        if element > max_element:\n",
    "            max_element = element\n",
    "\n",
    "# Print the result\n",
    "print(f\"The maximum element in the 2D list is: {max_element}\")"
   ]
  },
  {
   "cell_type": "code",
   "execution_count": 38,
   "id": "eb25e951-e087-4c7e-bbe4-1a42fd08e3e3",
   "metadata": {},
   "outputs": [
    {
     "name": "stdin",
     "output_type": "stream",
     "text": [
      "Enter a list of elements separated by spaces:  hi bye what when pw skills \n",
      "Enter the element to remove:  what\n"
     ]
    },
    {
     "name": "stdout",
     "output_type": "stream",
     "text": [
      "The list after removing all occurrences of what: ['hi', 'bye', 'when', 'pw', 'skills']\n"
     ]
    }
   ],
   "source": [
    "# 15. Create a program that removes all occurrences of a specific element from a list using a `for` loop.\n",
    "\n",
    "# Input: List of elements\n",
    "elements = input(\"Enter a list of elements separated by spaces: \").split()\n",
    "\n",
    "# Input: Element to remove\n",
    "element_to_remove = input(\"Enter the element to remove: \")\n",
    "\n",
    "# Remove all occurrences of the specified element using a for loop\n",
    "modified_list = [element for element in elements if element != element_to_remove]\n",
    "\n",
    "# Print the modified list\n",
    "print(f\"The list after removing all occurrences of {element_to_remove}: {modified_list}\")\n"
   ]
  },
  {
   "cell_type": "code",
   "execution_count": 1,
   "id": "ed1c3b99-32af-4687-9442-0a6680ac5504",
   "metadata": {},
   "outputs": [
    {
     "name": "stdout",
     "output_type": "stream",
     "text": [
      "Multiplication table for 1:\n",
      "1 x 1 = 1\n",
      "1 x 2 = 2\n",
      "1 x 3 = 3\n",
      "1 x 4 = 4\n",
      "1 x 5 = 5\n",
      "1 x 6 = 6\n",
      "1 x 7 = 7\n",
      "1 x 8 = 8\n",
      "1 x 9 = 9\n",
      "1 x 10 = 10\n",
      "\n",
      "Multiplication table for 2:\n",
      "2 x 1 = 2\n",
      "2 x 2 = 4\n",
      "2 x 3 = 6\n",
      "2 x 4 = 8\n",
      "2 x 5 = 10\n",
      "2 x 6 = 12\n",
      "2 x 7 = 14\n",
      "2 x 8 = 16\n",
      "2 x 9 = 18\n",
      "2 x 10 = 20\n",
      "\n",
      "Multiplication table for 3:\n",
      "3 x 1 = 3\n",
      "3 x 2 = 6\n",
      "3 x 3 = 9\n",
      "3 x 4 = 12\n",
      "3 x 5 = 15\n",
      "3 x 6 = 18\n",
      "3 x 7 = 21\n",
      "3 x 8 = 24\n",
      "3 x 9 = 27\n",
      "3 x 10 = 30\n",
      "\n",
      "Multiplication table for 4:\n",
      "4 x 1 = 4\n",
      "4 x 2 = 8\n",
      "4 x 3 = 12\n",
      "4 x 4 = 16\n",
      "4 x 5 = 20\n",
      "4 x 6 = 24\n",
      "4 x 7 = 28\n",
      "4 x 8 = 32\n",
      "4 x 9 = 36\n",
      "4 x 10 = 40\n",
      "\n",
      "Multiplication table for 5:\n",
      "5 x 1 = 5\n",
      "5 x 2 = 10\n",
      "5 x 3 = 15\n",
      "5 x 4 = 20\n",
      "5 x 5 = 25\n",
      "5 x 6 = 30\n",
      "5 x 7 = 35\n",
      "5 x 8 = 40\n",
      "5 x 9 = 45\n",
      "5 x 10 = 50\n",
      "\n"
     ]
    }
   ],
   "source": [
    "# 16. Develop a program that generates a multiplication table for numbers from 1 to 5 using a nested `for` loop.\n",
    "\n",
    "for i in range(1, 6):\n",
    "    print(f\"Multiplication table for {i}:\")\n",
    "    for j in range(1, 11):\n",
    "        result = i * j\n",
    "        print(f\"{i} x {j} = {result}\")\n",
    "    print() "
   ]
  },
  {
   "cell_type": "code",
   "execution_count": 2,
   "id": "19007fb5-e453-4240-8237-e864c8248e2f",
   "metadata": {},
   "outputs": [
    {
     "name": "stdin",
     "output_type": "stream",
     "text": [
      "Enter a list of Fahrenheit temperatures separated by spaces:  12.4 45.3\n"
     ]
    },
    {
     "name": "stdout",
     "output_type": "stream",
     "text": [
      "Fahrenheit Temperatures: [12.4, 45.3]\n",
      "Celsius Temperatures: [-10.88888888888889, 7.3888888888888875]\n"
     ]
    }
   ],
   "source": [
    "# 17. Write a program that converts a list of Fahrenheit temperatures to Celsius using a `for` loop.\n",
    "\n",
    "fahrenheit_temperatures = [float(x) for x in input(\"Enter a list of Fahrenheit temperatures separated by spaces: \").split()]\n",
    "\n",
    "# Convert Fahrenheit to Celsius using a for loop\n",
    "celsius_temperatures = []\n",
    "\n",
    "for temp in fahrenheit_temperatures:\n",
    "    celsius = (temp - 32) * 5/9\n",
    "    celsius_temperatures.append(celsius)\n",
    "\n",
    "# Print the converted temperatures\n",
    "print(\"Fahrenheit Temperatures:\", fahrenheit_temperatures)\n",
    "print(\"Celsius Temperatures:\", celsius_temperatures)"
   ]
  },
  {
   "cell_type": "code",
   "execution_count": 3,
   "id": "1546df30-3e87-42b1-9d1b-b9a9169f7854",
   "metadata": {},
   "outputs": [
    {
     "name": "stdin",
     "output_type": "stream",
     "text": [
      "Enter elements for the first list separated by spaces:  1 2 4 6 7\n",
      "Enter elements for the second list separated by spaces:  3 78 6 9 8\n"
     ]
    },
    {
     "name": "stdout",
     "output_type": "stream",
     "text": [
      "Common elements: ['6']\n"
     ]
    }
   ],
   "source": [
    "# 18. Create a program to print the common elements from two lists using a `for` loop.\n",
    "\n",
    "# Input: Two lists of elements\n",
    "list1 = input(\"Enter elements for the first list separated by spaces: \").split()\n",
    "list2 = input(\"Enter elements for the second list separated by spaces: \").split()\n",
    "\n",
    "# Find and print common elements using a for loop\n",
    "common_elements = []\n",
    "\n",
    "for element1 in list1:\n",
    "    for element2 in list2:\n",
    "        if element1 == element2:\n",
    "            common_elements.append(element1)\n",
    "\n",
    "# Print the common elements\n",
    "if common_elements:\n",
    "    print(\"Common elements:\", common_elements)\n",
    "else:\n",
    "    print(\"No common elements found.\")\n"
   ]
  },
  {
   "cell_type": "code",
   "execution_count": 4,
   "id": "14713aa2-7305-4166-a27d-f997a4b978e5",
   "metadata": {},
   "outputs": [
    {
     "name": "stdin",
     "output_type": "stream",
     "text": [
      "Enter the number of rows for the pattern:  6\n"
     ]
    },
    {
     "name": "stdout",
     "output_type": "stream",
     "text": [
      "* \n",
      "* * \n",
      "* * * \n",
      "* * * * \n",
      "* * * * * \n",
      "* * * * * * \n"
     ]
    }
   ],
   "source": [
    "# 19. Develop a program that prints the pattern of right-angled triangles using a `for` loop. Use ‘*’ to draw the\n",
    "# pattern\n",
    "\n",
    "num_rows = int(input(\"Enter the number of rows for the pattern: \"))\n",
    "\n",
    "# Print the pattern of right-angled triangles using a for loop\n",
    "for i in range(1, num_rows + 1):\n",
    "    for j in range(1, i + 1):\n",
    "        print(\"*\", end=\" \")\n",
    "    print()\n"
   ]
  },
  {
   "cell_type": "code",
   "execution_count": 6,
   "id": "f955760b-fc53-4142-b55e-8b7a1184207e",
   "metadata": {},
   "outputs": [
    {
     "name": "stdin",
     "output_type": "stream",
     "text": [
      "Enter the first number:  9\n",
      "Enter the second number:  27\n"
     ]
    },
    {
     "name": "stdout",
     "output_type": "stream",
     "text": [
      "The greatest common divisor (GCD) of 9 and 27 is: 9\n"
     ]
    }
   ],
   "source": [
    "# 20. Write a program to find the greatest common divisor (GCD) of two numbers using a `for` loop.\n",
    "\n",
    "# Input: Two numbers\n",
    "num1 = int(input(\"Enter the first number: \"))\n",
    "num2 = int(input(\"Enter the second number: \"))\n",
    "\n",
    "# Find the greatest common divisor using a for loop\n",
    "gcd = 1\n",
    "\n",
    "for i in range(1, min(num1, num2) + 1):\n",
    "    if num1 % i == 0 and num2 % i == 0:\n",
    "        gcd = i\n",
    "\n",
    "# Print the result\n",
    "print(f\"The greatest common divisor (GCD) of {num1} and {num2} is: {gcd}\")"
   ]
  },
  {
   "cell_type": "code",
   "execution_count": 7,
   "id": "0fd7410e-285a-4342-8fc0-1f4eb70a2f38",
   "metadata": {},
   "outputs": [
    {
     "name": "stdin",
     "output_type": "stream",
     "text": [
      "Enter a list of numbers separated by spaces:  123 45 65 72 98\n"
     ]
    },
    {
     "name": "stdout",
     "output_type": "stream",
     "text": [
      "Original Numbers: [123, 45, 65, 72, 98]\n",
      "Sum of Digits: [6, 9, 11, 9, 17]\n"
     ]
    }
   ],
   "source": [
    "# 21. Create a program that calculates the sum of the digits of numbers in a list using a list comprehension.\n",
    "\n",
    "# Input: List of numbers\n",
    "numbers = [int(x) for x in input(\"Enter a list of numbers separated by spaces: \").split()]\n",
    "\n",
    "# Calculate the sum of digits using list comprehension\n",
    "sum_of_digits_list = [sum(int(digit) for digit in str(num)) for num in numbers]\n",
    "\n",
    "# Print the result\n",
    "print(\"Original Numbers:\", numbers)\n",
    "print(\"Sum of Digits:\", sum_of_digits_list)\n"
   ]
  },
  {
   "cell_type": "code",
   "execution_count": 8,
   "id": "d62cfce7-d1c6-4478-8786-552ee21be59f",
   "metadata": {},
   "outputs": [
    {
     "name": "stdin",
     "output_type": "stream",
     "text": [
      "Enter a number:  6\n"
     ]
    },
    {
     "name": "stdout",
     "output_type": "stream",
     "text": [
      "The prime factors of 6 are: [2, 3]\n"
     ]
    }
   ],
   "source": [
    "# 22. Write a program to find the prime factors of a given number using a `for` loop and list comprehension.\n",
    "\n",
    "# Input: Number for which prime factors need to be found\n",
    "number = int(input(\"Enter a number: \"))\n",
    "\n",
    "# Find prime factors using for loop and list comprehension\n",
    "prime_factors = [factor for factor in range(2, number + 1) if number % factor == 0 and all(factor % i != 0 for i in range(2, int(factor**0.5) + 1))]\n",
    "\n",
    "# Print the result\n",
    "print(f\"The prime factors of {number} are: {prime_factors}\")\n"
   ]
  },
  {
   "cell_type": "code",
   "execution_count": 10,
   "id": "16ecc71c-25d2-420e-b61e-aab2602a09f8",
   "metadata": {},
   "outputs": [
    {
     "name": "stdout",
     "output_type": "stream",
     "text": [
      "Original List: ['apple', 'banana', 'orange', 'apple', 'grape', 'banana', 'kiwi']\n",
      "Unique Elements: ['orange', 'grape', 'banana', 'apple', 'kiwi']\n"
     ]
    }
   ],
   "source": [
    "# 23. Develop a program that extracts unique elements from a list and stores them in a new list using a list\n",
    "# comprehension.\n",
    "\n",
    "# Example list of elements\n",
    "original_list = [\"apple\", \"banana\", \"orange\", \"apple\", \"grape\", \"banana\", \"kiwi\"]\n",
    "\n",
    "# Extract unique elements using list comprehension\n",
    "unique_elements = list(set(original_list))\n",
    "\n",
    "# Print the result\n",
    "print(f\"Original List: {original_list}\")\n",
    "print(f\"Unique Elements: {unique_elements}\")\n"
   ]
  },
  {
   "cell_type": "code",
   "execution_count": 11,
   "id": "193170fc-46e8-49f5-a464-3425351eda5c",
   "metadata": {},
   "outputs": [
    {
     "name": "stdin",
     "output_type": "stream",
     "text": [
      "Enter the limit for palindromic numbers:  123\n"
     ]
    },
    {
     "name": "stdout",
     "output_type": "stream",
     "text": [
      "Palindromic Numbers up to 123: [0, 1, 2, 3, 4, 5, 6, 7, 8, 9, 11, 22, 33, 44, 55, 66, 77, 88, 99, 101, 111, 121]\n"
     ]
    }
   ],
   "source": [
    "# 24. Create a program that generates a list of all palindromic numbers up to a specified limit using a list\n",
    "# comprehension.\n",
    "\n",
    "# Input: Limit for palindromic numbers\n",
    "limit = int(input(\"Enter the limit for palindromic numbers: \"))\n",
    "\n",
    "# Generate a list of palindromic numbers using list comprehension\n",
    "palindromic_numbers = [num for num in range(limit + 1) if str(num) == str(num)[::-1]]\n",
    "\n",
    "# Print the result\n",
    "print(f\"Palindromic Numbers up to {limit}: {palindromic_numbers}\")\n"
   ]
  },
  {
   "cell_type": "code",
   "execution_count": 12,
   "id": "e8537524-23f0-47d9-9a49-ef9040519cc9",
   "metadata": {},
   "outputs": [
    {
     "name": "stdout",
     "output_type": "stream",
     "text": [
      "Nested List: [[1, 2, 3], [4, 5, [6, 7]], 8, [9, [10, 11]]]\n",
      "Flattened List: [1, 2, 3, 4, 5, [6, 7], 8, 9, [10, 11]]\n"
     ]
    }
   ],
   "source": [
    "# 25. Write a program to flatten a nested list using list comprehension.\n",
    "\n",
    "# Input: Nested list\n",
    "nested_list = [[1, 2, 3], [4, 5, [6, 7]], 8, [9, [10, 11]]]\n",
    "\n",
    "# Flatten the nested list using list comprehension\n",
    "flattened_list = [element for sublist in nested_list for element in (sublist if isinstance(sublist, list) else [sublist])]\n",
    "\n",
    "# Print the result\n",
    "print(f\"Nested List: {nested_list}\")\n",
    "print(f\"Flattened List: {flattened_list}\")\n"
   ]
  },
  {
   "cell_type": "code",
   "execution_count": 13,
   "id": "775fa87c-965b-4ac4-9174-5f8296f2934e",
   "metadata": {},
   "outputs": [
    {
     "name": "stdin",
     "output_type": "stream",
     "text": [
      "Enter a list of numbers separated by spaces:  1 23 4 65 43 22 4 67 78 44 56\n"
     ]
    },
    {
     "name": "stdout",
     "output_type": "stream",
     "text": [
      "Original Numbers: [1, 23, 4, 65, 43, 22, 4, 67, 78, 44, 56]\n",
      "Sum of Even Numbers: 208\n",
      "Sum of Odd Numbers: 199\n"
     ]
    }
   ],
   "source": [
    "# 26. Develop a program that computes the sum of even and odd numbers in a list separately using list\n",
    "# comprehension.\n",
    "\n",
    "# Input: List of numbers\n",
    "numbers = [int(x) for x in input(\"Enter a list of numbers separated by spaces: \").split()]\n",
    "\n",
    "# Compute the sum of even and odd numbers using list comprehension\n",
    "sum_even = sum([num for num in numbers if num % 2 == 0])\n",
    "sum_odd = sum([num for num in numbers if num % 2 != 0])\n",
    "\n",
    "# Print the result\n",
    "print(f\"Original Numbers: {numbers}\")\n",
    "print(f\"Sum of Even Numbers: {sum_even}\")\n",
    "print(f\"Sum of Odd Numbers: {sum_odd}\")\n"
   ]
  },
  {
   "cell_type": "code",
   "execution_count": 14,
   "id": "3dfdb5c7-c7c8-4896-b662-44dcfe22a8d5",
   "metadata": {},
   "outputs": [
    {
     "name": "stdout",
     "output_type": "stream",
     "text": [
      "Squares of Odd Numbers between 1 and 10: [1, 9, 25, 49, 81]\n"
     ]
    }
   ],
   "source": [
    "# 27. Create a program that generates a list of squares of odd numbers between 1 and 10 using list\n",
    "# comprehension.\n",
    "\n",
    "squares_of_odd_numbers = [num**2 for num in range(1, 11) if num % 2 != 0]\n",
    "\n",
    "# Print the result\n",
    "print(f\"Squares of Odd Numbers between 1 and 10: {squares_of_odd_numbers}\")"
   ]
  },
  {
   "cell_type": "code",
   "execution_count": 15,
   "id": "f643c2ac-a695-47ea-9642-279846a08a6f",
   "metadata": {},
   "outputs": [
    {
     "name": "stdin",
     "output_type": "stream",
     "text": [
      "Enter a list of keys separated by spaces:  Name age class section\n",
      "Enter a list of values separated by spaces:  aman 16 10 B\n"
     ]
    },
    {
     "name": "stdout",
     "output_type": "stream",
     "text": [
      "Combined Dictionary: {'Name': 'aman', 'age': '16', 'class': '10', 'section': 'B'}\n"
     ]
    }
   ],
   "source": [
    "# 28. Write a program that combines two lists into a dictionary using list comprehension.\n",
    "\n",
    "# Input: Two lists\n",
    "keys = input(\"Enter a list of keys separated by spaces: \").split()\n",
    "values = input(\"Enter a list of values separated by spaces: \").split()\n",
    "\n",
    "# Combine two lists into a dictionary using list comprehension\n",
    "combined_dict = {keys[i]: values[i] for i in range(min(len(keys), len(values)))}\n",
    "\n",
    "# Print the result\n",
    "print(f\"Combined Dictionary: {combined_dict}\")\n"
   ]
  },
  {
   "cell_type": "code",
   "execution_count": 16,
   "id": "d9eb8134-a9f7-402a-a990-e2026b848dd4",
   "metadata": {},
   "outputs": [
    {
     "name": "stdin",
     "output_type": "stream",
     "text": [
      "Enter a string:  instagram\n"
     ]
    },
    {
     "name": "stdout",
     "output_type": "stream",
     "text": [
      "Original String: instagram\n",
      "Extracted Vowels: ['i', 'a', 'a']\n"
     ]
    }
   ],
   "source": [
    "# 29. Develop a program that extracts the vowels from a string and stores them in a list using list comprehension.\n",
    "\n",
    "input_string = input(\"Enter a string: \")\n",
    "\n",
    "# Extract vowels using list comprehension\n",
    "vowels = [char.lower() for char in input_string if char.lower() in 'aeiou']\n",
    "\n",
    "# Print the result\n",
    "print(f\"Original String: {input_string}\")\n",
    "print(f\"Extracted Vowels: {vowels}\")\n"
   ]
  },
  {
   "cell_type": "code",
   "execution_count": 17,
   "id": "cd1a0335-0669-41a3-b9fd-ab778e2cfca9",
   "metadata": {},
   "outputs": [
    {
     "name": "stdin",
     "output_type": "stream",
     "text": [
      "Enter a list of strings separated by spaces:  pwskills49\n"
     ]
    },
    {
     "name": "stdout",
     "output_type": "stream",
     "text": [
      "Original List of Strings: ['pwskills49']\n",
      "List with Non-Numeric Characters Removed: ['49']\n"
     ]
    }
   ],
   "source": [
    "# 30. Create a program that removes all non-numeric characters from a list of strings using list comprehension.\n",
    "\n",
    "# Input: List of strings\n",
    "string_list = input(\"Enter a list of strings separated by spaces: \").split()\n",
    "\n",
    "# Remove non-numeric characters using list comprehension\n",
    "numeric_strings = [''.join(char for char in s if char.isdigit()) for s in string_list]\n",
    "\n",
    "# Print the result\n",
    "print(f\"Original List of Strings: {string_list}\")\n",
    "print(f\"List with Non-Numeric Characters Removed: {numeric_strings}\")\n"
   ]
  },
  {
   "cell_type": "code",
   "execution_count": 18,
   "id": "e235ee4b-89b5-4030-a8ba-7a934e253fbd",
   "metadata": {},
   "outputs": [
    {
     "name": "stdin",
     "output_type": "stream",
     "text": [
      "Enter the upper limit for prime numbers:  50\n"
     ]
    },
    {
     "name": "stdout",
     "output_type": "stream",
     "text": [
      "Prime Numbers up to 50: [2, 3, 5, 7, 11, 13, 17, 19, 23, 29, 31, 37, 41, 43, 47]\n"
     ]
    }
   ],
   "source": [
    "# 31. Write a program to generate a list of prime numbers using the Sieve of Eratosthenes algorithm and list\n",
    "# comprehension.\n",
    "\n",
    "# Input: Upper limit for prime numbers\n",
    "limit = int(input(\"Enter the upper limit for prime numbers: \"))\n",
    "\n",
    "# Sieve of Eratosthenes algorithm using list comprehension\n",
    "sieve = [True] * (limit + 1)\n",
    "sieve[0], sieve[1] = False, False\n",
    "\n",
    "for i in range(2, int(limit**0.5) + 1):\n",
    "    if sieve[i]:\n",
    "        sieve[i*i:limit+1:i] = [False] * len(range(i*i, limit+1, i))\n",
    "\n",
    "# Generate a list of prime numbers using list comprehension\n",
    "prime_numbers = [num for num in range(2, limit + 1) if sieve[num]]\n",
    "\n",
    "# Print the result\n",
    "print(f\"Prime Numbers up to {limit}: {prime_numbers}\")\n"
   ]
  },
  {
   "cell_type": "code",
   "execution_count": 19,
   "id": "74a167cc-5c53-4668-b0c5-15f564c5d597",
   "metadata": {},
   "outputs": [
    {
     "name": "stdin",
     "output_type": "stream",
     "text": [
      "Enter the upper limit for Pythagorean triplets:  20\n"
     ]
    },
    {
     "name": "stdout",
     "output_type": "stream",
     "text": [
      "Pythagorean Triplets up to 20: [(3, 4, 5), (5, 12, 13), (6, 8, 10), (8, 15, 17), (9, 12, 15), (12, 16, 20)]\n"
     ]
    }
   ],
   "source": [
    "# 32. Create a program that generates a list of all Pythagorean triplets up to a specified limit using list\n",
    "# comprehension.\n",
    "\n",
    "# Input: Upper limit for Pythagorean triplets\n",
    "limit = int(input(\"Enter the upper limit for Pythagorean triplets: \"))\n",
    "\n",
    "# Generate a list of Pythagorean triplets using list comprehension\n",
    "pythagorean_triplets = [(a, b, c) for a in range(1, limit + 1) for b in range(a, limit + 1) for c in range(b, limit + 1) if a**2 + b**2 == c**2]\n",
    "\n",
    "# Print the result\n",
    "print(f\"Pythagorean Triplets up to {limit}: {pythagorean_triplets}\")\n"
   ]
  },
  {
   "cell_type": "code",
   "execution_count": 20,
   "id": "9ffe950a-16f0-4fbd-84e4-9687e5a81171",
   "metadata": {},
   "outputs": [
    {
     "name": "stdin",
     "output_type": "stream",
     "text": [
      "Enter elements for the first list separated by spaces:  w e r ty u i\n",
      "Enter elements for the second list separated by spaces:  a s d f  g h\n"
     ]
    },
    {
     "name": "stdout",
     "output_type": "stream",
     "text": [
      "All Possible Combinations of the Two Lists: [('w', 'a'), ('w', 's'), ('w', 'd'), ('w', 'f'), ('w', 'g'), ('w', 'h'), ('e', 'a'), ('e', 's'), ('e', 'd'), ('e', 'f'), ('e', 'g'), ('e', 'h'), ('r', 'a'), ('r', 's'), ('r', 'd'), ('r', 'f'), ('r', 'g'), ('r', 'h'), ('ty', 'a'), ('ty', 's'), ('ty', 'd'), ('ty', 'f'), ('ty', 'g'), ('ty', 'h'), ('u', 'a'), ('u', 's'), ('u', 'd'), ('u', 'f'), ('u', 'g'), ('u', 'h'), ('i', 'a'), ('i', 's'), ('i', 'd'), ('i', 'f'), ('i', 'g'), ('i', 'h')]\n"
     ]
    }
   ],
   "source": [
    "# 33. Develop a program that generates a list of all possible combinations of two lists using list comprehension.\n",
    "\n",
    "# Input: Two lists\n",
    "list1 = input(\"Enter elements for the first list separated by spaces: \").split()\n",
    "list2 = input(\"Enter elements for the second list separated by spaces: \").split()\n",
    "\n",
    "# Generate a list of all possible combinations using list comprehension\n",
    "combinations = [(x, y) for x in list1 for y in list2]\n",
    "\n",
    "# Print the result\n",
    "print(f\"All Possible Combinations of the Two Lists: {combinations}\")\n"
   ]
  },
  {
   "cell_type": "code",
   "execution_count": 21,
   "id": "0141cfe8-94fa-4cba-85c4-040e0985d080",
   "metadata": {},
   "outputs": [
    {
     "name": "stdin",
     "output_type": "stream",
     "text": [
      "Enter a list of numbers separated by spaces:  1 2 3 4 6 7 8 9\n"
     ]
    },
    {
     "name": "stdout",
     "output_type": "stream",
     "text": [
      "Original Numbers: [1.0, 2.0, 3.0, 4.0, 6.0, 7.0, 8.0, 9.0]\n",
      "Mean: 5.0\n",
      "Median: 5.0\n",
      "Mode: 1.0\n"
     ]
    }
   ],
   "source": [
    "# 34. Write a program that calculates the mean, median, and mode of a list of numbers using list\n",
    "# comprehension.\n",
    "\n",
    "from statistics import mean, median, mode\n",
    "\n",
    "# Input: List of numbers\n",
    "numbers = [float(x) for x in input(\"Enter a list of numbers separated by spaces: \").split()]\n",
    "\n",
    "# Calculate mean, median, and mode using list comprehension\n",
    "mean_value = mean(numbers)\n",
    "median_value = median(numbers)\n",
    "mode_value = mode(numbers)\n",
    "\n",
    "# Print the result\n",
    "print(f\"Original Numbers: {numbers}\")\n",
    "print(f\"Mean: {mean_value}\")\n",
    "print(f\"Median: {median_value}\")\n",
    "print(f\"Mode: {mode_value}\")\n"
   ]
  },
  {
   "cell_type": "code",
   "execution_count": 26,
   "id": "1d044f56-205a-4b95-8d90-e673e6ff9eea",
   "metadata": {},
   "outputs": [
    {
     "name": "stdin",
     "output_type": "stream",
     "text": [
      "Enter the number of rows for Pascal's triangle:  5\n"
     ]
    },
    {
     "ename": "NameError",
     "evalue": "name 'pascals_triangle' is not defined",
     "output_type": "error",
     "traceback": [
      "\u001b[0;31m---------------------------------------------------------------------------\u001b[0m",
      "\u001b[0;31mNameError\u001b[0m                                 Traceback (most recent call last)",
      "Cell \u001b[0;32mIn[26], line 8\u001b[0m\n\u001b[1;32m      5\u001b[0m num_rows \u001b[38;5;241m=\u001b[39m \u001b[38;5;28mint\u001b[39m(\u001b[38;5;28minput\u001b[39m(\u001b[38;5;124m\"\u001b[39m\u001b[38;5;124mEnter the number of rows for Pascal\u001b[39m\u001b[38;5;124m'\u001b[39m\u001b[38;5;124ms triangle: \u001b[39m\u001b[38;5;124m\"\u001b[39m))\n\u001b[1;32m      7\u001b[0m \u001b[38;5;66;03m# Generate Pascal's triangle using list comprehension\u001b[39;00m\n\u001b[0;32m----> 8\u001b[0m pascals_triangle \u001b[38;5;241m=\u001b[39m [[\u001b[38;5;241m1\u001b[39m] \u001b[38;5;241m+\u001b[39m [pascals_triangle[i\u001b[38;5;241m-\u001b[39m\u001b[38;5;241m1\u001b[39m][j\u001b[38;5;241m-\u001b[39m\u001b[38;5;241m1\u001b[39m] \u001b[38;5;241m+\u001b[39m pascals_triangle[i\u001b[38;5;241m-\u001b[39m\u001b[38;5;241m1\u001b[39m][j] \u001b[38;5;28;01mfor\u001b[39;00m j \u001b[38;5;129;01min\u001b[39;00m \u001b[38;5;28mrange\u001b[39m(\u001b[38;5;241m1\u001b[39m, i)] \u001b[38;5;241m+\u001b[39m [\u001b[38;5;241m1\u001b[39m] \u001b[38;5;28;01mfor\u001b[39;00m i \u001b[38;5;129;01min\u001b[39;00m \u001b[38;5;28mrange\u001b[39m(\u001b[38;5;241m1\u001b[39m, num_rows \u001b[38;5;241m+\u001b[39m \u001b[38;5;241m1\u001b[39m)]\n\u001b[1;32m     10\u001b[0m \u001b[38;5;66;03m# Print the result\u001b[39;00m\n\u001b[1;32m     11\u001b[0m \u001b[38;5;28;01mfor\u001b[39;00m row \u001b[38;5;129;01min\u001b[39;00m pascals_triangle:\n",
      "Cell \u001b[0;32mIn[26], line 8\u001b[0m, in \u001b[0;36m<listcomp>\u001b[0;34m(.0)\u001b[0m\n\u001b[1;32m      5\u001b[0m num_rows \u001b[38;5;241m=\u001b[39m \u001b[38;5;28mint\u001b[39m(\u001b[38;5;28minput\u001b[39m(\u001b[38;5;124m\"\u001b[39m\u001b[38;5;124mEnter the number of rows for Pascal\u001b[39m\u001b[38;5;124m'\u001b[39m\u001b[38;5;124ms triangle: \u001b[39m\u001b[38;5;124m\"\u001b[39m))\n\u001b[1;32m      7\u001b[0m \u001b[38;5;66;03m# Generate Pascal's triangle using list comprehension\u001b[39;00m\n\u001b[0;32m----> 8\u001b[0m pascals_triangle \u001b[38;5;241m=\u001b[39m [[\u001b[38;5;241m1\u001b[39m] \u001b[38;5;241m+\u001b[39m [pascals_triangle[i\u001b[38;5;241m-\u001b[39m\u001b[38;5;241m1\u001b[39m][j\u001b[38;5;241m-\u001b[39m\u001b[38;5;241m1\u001b[39m] \u001b[38;5;241m+\u001b[39m pascals_triangle[i\u001b[38;5;241m-\u001b[39m\u001b[38;5;241m1\u001b[39m][j] \u001b[38;5;28;01mfor\u001b[39;00m j \u001b[38;5;129;01min\u001b[39;00m \u001b[38;5;28mrange\u001b[39m(\u001b[38;5;241m1\u001b[39m, i)] \u001b[38;5;241m+\u001b[39m [\u001b[38;5;241m1\u001b[39m] \u001b[38;5;28;01mfor\u001b[39;00m i \u001b[38;5;129;01min\u001b[39;00m \u001b[38;5;28mrange\u001b[39m(\u001b[38;5;241m1\u001b[39m, num_rows \u001b[38;5;241m+\u001b[39m \u001b[38;5;241m1\u001b[39m)]\n\u001b[1;32m     10\u001b[0m \u001b[38;5;66;03m# Print the result\u001b[39;00m\n\u001b[1;32m     11\u001b[0m \u001b[38;5;28;01mfor\u001b[39;00m row \u001b[38;5;129;01min\u001b[39;00m pascals_triangle:\n",
      "Cell \u001b[0;32mIn[26], line 8\u001b[0m, in \u001b[0;36m<listcomp>\u001b[0;34m(.0)\u001b[0m\n\u001b[1;32m      5\u001b[0m num_rows \u001b[38;5;241m=\u001b[39m \u001b[38;5;28mint\u001b[39m(\u001b[38;5;28minput\u001b[39m(\u001b[38;5;124m\"\u001b[39m\u001b[38;5;124mEnter the number of rows for Pascal\u001b[39m\u001b[38;5;124m'\u001b[39m\u001b[38;5;124ms triangle: \u001b[39m\u001b[38;5;124m\"\u001b[39m))\n\u001b[1;32m      7\u001b[0m \u001b[38;5;66;03m# Generate Pascal's triangle using list comprehension\u001b[39;00m\n\u001b[0;32m----> 8\u001b[0m pascals_triangle \u001b[38;5;241m=\u001b[39m [[\u001b[38;5;241m1\u001b[39m] \u001b[38;5;241m+\u001b[39m [\u001b[43mpascals_triangle\u001b[49m[i\u001b[38;5;241m-\u001b[39m\u001b[38;5;241m1\u001b[39m][j\u001b[38;5;241m-\u001b[39m\u001b[38;5;241m1\u001b[39m] \u001b[38;5;241m+\u001b[39m pascals_triangle[i\u001b[38;5;241m-\u001b[39m\u001b[38;5;241m1\u001b[39m][j] \u001b[38;5;28;01mfor\u001b[39;00m j \u001b[38;5;129;01min\u001b[39;00m \u001b[38;5;28mrange\u001b[39m(\u001b[38;5;241m1\u001b[39m, i)] \u001b[38;5;241m+\u001b[39m [\u001b[38;5;241m1\u001b[39m] \u001b[38;5;28;01mfor\u001b[39;00m i \u001b[38;5;129;01min\u001b[39;00m \u001b[38;5;28mrange\u001b[39m(\u001b[38;5;241m1\u001b[39m, num_rows \u001b[38;5;241m+\u001b[39m \u001b[38;5;241m1\u001b[39m)]\n\u001b[1;32m     10\u001b[0m \u001b[38;5;66;03m# Print the result\u001b[39;00m\n\u001b[1;32m     11\u001b[0m \u001b[38;5;28;01mfor\u001b[39;00m row \u001b[38;5;129;01min\u001b[39;00m pascals_triangle:\n",
      "\u001b[0;31mNameError\u001b[0m: name 'pascals_triangle' is not defined"
     ]
    }
   ],
   "source": [
    "# 35. Create a program that generates Pascal's triangle up to a specified number of rows using list\n",
    "# comprehension.\n",
    "\n",
    "# Input: Number of rows for Pascal's triangle\n",
    "num_rows = int(input(\"Enter the number of rows for Pascal's triangle: \"))\n",
    "\n",
    "# Generate Pascal's triangle using list comprehension\n",
    "pascals_triangle = [[1] + [pascals_triangle[i-1][j-1] + pascals_triangle[i-1][j] for j in range(1, i)] + [1] for i in range(1, num_rows + 1)]\n",
    "\n",
    "# Print the result\n",
    "for row in pascals_triangle:\n",
    "    print(' '.join(map(str, row)).center(num_rows * 3))\n",
    "\n"
   ]
  },
  {
   "cell_type": "code",
   "execution_count": 27,
   "id": "f7ca6afa-5b56-4959-b63a-336489a57cf8",
   "metadata": {},
   "outputs": [
    {
     "name": "stdout",
     "output_type": "stream",
     "text": [
      "Factorial sum of digits for 1!: 1\n",
      "Factorial sum of digits for 2!: 2\n",
      "Factorial sum of digits for 3!: 6\n",
      "Factorial sum of digits for 4!: 6\n",
      "Factorial sum of digits for 5!: 3\n"
     ]
    }
   ],
   "source": [
    "# 36. Develop a program that calculates the sum of the digits of a factorial of numbers from 1 to 5 using list\n",
    "# comprehension.\n",
    "\n",
    "# Input: Numbers for which factorial sum of digits needs to be calculated\n",
    "numbers = [1, 2, 3, 4, 5]\n",
    "\n",
    "# Calculate the sum of digits of factorial for each number using list comprehension\n",
    "factorial_sums = [sum(int(digit) for digit in str(factorial)) for factorial in [1, 2, 6, 24, 120]]\n",
    "\n",
    "# Print the result\n",
    "for num, factorial_sum in zip(numbers, factorial_sums):\n",
    "    print(f\"Factorial sum of digits for {num}!: {factorial_sum}\")\n"
   ]
  },
  {
   "cell_type": "code",
   "execution_count": 29,
   "id": "8c2b7690-d461-4d28-b348-001e2173bf21",
   "metadata": {},
   "outputs": [
    {
     "name": "stdin",
     "output_type": "stream",
     "text": [
      "Enter a sentence:  This is pwskills\n"
     ]
    },
    {
     "name": "stdout",
     "output_type": "stream",
     "text": [
      "The longest word in the sentence is: pwskills\n"
     ]
    }
   ],
   "source": [
    "# 37. Write a program that finds the longest word in a sentence using list comprehension.\n",
    "\n",
    "# Input: Sentence\n",
    "sentence = input(\"Enter a sentence: \")\n",
    "\n",
    "# Find the longest word using list comprehension\n",
    "longest_word = max(word.strip(\".,?!\") for word in sentence.split())\n",
    "\n",
    "# Print the result\n",
    "print(f\"The longest word in the sentence is: {longest_word}\")\n"
   ]
  },
  {
   "cell_type": "code",
   "execution_count": 31,
   "id": "1c113730-5ef4-401e-9521-d77c223a387a",
   "metadata": {},
   "outputs": [
    {
     "name": "stdin",
     "output_type": "stream",
     "text": [
      "Enter a list of strings separated by spaces:  aie uthjefbiocb weufnhei c fik cere eik \n"
     ]
    },
    {
     "name": "stdout",
     "output_type": "stream",
     "text": [
      "Original List of Strings: ['aie', 'uthjefbiocb', 'weufnhei', 'c', 'fik', 'cere', 'eik']\n",
      "Filtered List with More than Three Vowels: ['uthjefbiocb', 'weufnhei']\n"
     ]
    }
   ],
   "source": [
    "# 38. Create a program that filters a list of strings to include only those with more than three vowels using list\n",
    "# comprehension.\n",
    "\n",
    "# Input: List of strings\n",
    "string_list = input(\"Enter a list of strings separated by spaces: \").split()\n",
    "\n",
    "# Filter strings with more than three vowels using list comprehension\n",
    "filtered_strings = [s for s in string_list if sum(1 for char in s if char.lower() in 'aeiou') > 3]\n",
    "\n",
    "# Print the result\n",
    "print(f\"Original List of Strings: {string_list}\")\n",
    "print(f\"Filtered List with More than Three Vowels: {filtered_strings}\")\n"
   ]
  },
  {
   "cell_type": "code",
   "execution_count": 33,
   "id": "aba80f40-44f9-42d4-ba0e-b42a60822838",
   "metadata": {},
   "outputs": [
    {
     "name": "stdout",
     "output_type": "stream",
     "text": [
      "Sum of Digits for Numbers from 1 to 1000: [1, 2, 3, 4, 5, 6, 7, 8, 9, 1, 2, 3, 4, 5, 6, 7, 8, 9, 10, 2, 3, 4, 5, 6, 7, 8, 9, 10, 11, 3, 4, 5, 6, 7, 8, 9, 10, 11, 12, 4, 5, 6, 7, 8, 9, 10, 11, 12, 13, 5, 6, 7, 8, 9, 10, 11, 12, 13, 14, 6, 7, 8, 9, 10, 11, 12, 13, 14, 15, 7, 8, 9, 10, 11, 12, 13, 14, 15, 16, 8, 9, 10, 11, 12, 13, 14, 15, 16, 17, 9, 10, 11, 12, 13, 14, 15, 16, 17, 18, 1, 2, 3, 4, 5, 6, 7, 8, 9, 10, 2, 3, 4, 5, 6, 7, 8, 9, 10, 11, 3, 4, 5, 6, 7, 8, 9, 10, 11, 12, 4, 5, 6, 7, 8, 9, 10, 11, 12, 13, 5, 6, 7, 8, 9, 10, 11, 12, 13, 14, 6, 7, 8, 9, 10, 11, 12, 13, 14, 15, 7, 8, 9, 10, 11, 12, 13, 14, 15, 16, 8, 9, 10, 11, 12, 13, 14, 15, 16, 17, 9, 10, 11, 12, 13, 14, 15, 16, 17, 18, 10, 11, 12, 13, 14, 15, 16, 17, 18, 19, 2, 3, 4, 5, 6, 7, 8, 9, 10, 11, 3, 4, 5, 6, 7, 8, 9, 10, 11, 12, 4, 5, 6, 7, 8, 9, 10, 11, 12, 13, 5, 6, 7, 8, 9, 10, 11, 12, 13, 14, 6, 7, 8, 9, 10, 11, 12, 13, 14, 15, 7, 8, 9, 10, 11, 12, 13, 14, 15, 16, 8, 9, 10, 11, 12, 13, 14, 15, 16, 17, 9, 10, 11, 12, 13, 14, 15, 16, 17, 18, 10, 11, 12, 13, 14, 15, 16, 17, 18, 19, 11, 12, 13, 14, 15, 16, 17, 18, 19, 20, 3, 4, 5, 6, 7, 8, 9, 10, 11, 12, 4, 5, 6, 7, 8, 9, 10, 11, 12, 13, 5, 6, 7, 8, 9, 10, 11, 12, 13, 14, 6, 7, 8, 9, 10, 11, 12, 13, 14, 15, 7, 8, 9, 10, 11, 12, 13, 14, 15, 16, 8, 9, 10, 11, 12, 13, 14, 15, 16, 17, 9, 10, 11, 12, 13, 14, 15, 16, 17, 18, 10, 11, 12, 13, 14, 15, 16, 17, 18, 19, 11, 12, 13, 14, 15, 16, 17, 18, 19, 20, 12, 13, 14, 15, 16, 17, 18, 19, 20, 21, 4, 5, 6, 7, 8, 9, 10, 11, 12, 13, 5, 6, 7, 8, 9, 10, 11, 12, 13, 14, 6, 7, 8, 9, 10, 11, 12, 13, 14, 15, 7, 8, 9, 10, 11, 12, 13, 14, 15, 16, 8, 9, 10, 11, 12, 13, 14, 15, 16, 17, 9, 10, 11, 12, 13, 14, 15, 16, 17, 18, 10, 11, 12, 13, 14, 15, 16, 17, 18, 19, 11, 12, 13, 14, 15, 16, 17, 18, 19, 20, 12, 13, 14, 15, 16, 17, 18, 19, 20, 21, 13, 14, 15, 16, 17, 18, 19, 20, 21, 22, 5, 6, 7, 8, 9, 10, 11, 12, 13, 14, 6, 7, 8, 9, 10, 11, 12, 13, 14, 15, 7, 8, 9, 10, 11, 12, 13, 14, 15, 16, 8, 9, 10, 11, 12, 13, 14, 15, 16, 17, 9, 10, 11, 12, 13, 14, 15, 16, 17, 18, 10, 11, 12, 13, 14, 15, 16, 17, 18, 19, 11, 12, 13, 14, 15, 16, 17, 18, 19, 20, 12, 13, 14, 15, 16, 17, 18, 19, 20, 21, 13, 14, 15, 16, 17, 18, 19, 20, 21, 22, 14, 15, 16, 17, 18, 19, 20, 21, 22, 23, 6, 7, 8, 9, 10, 11, 12, 13, 14, 15, 7, 8, 9, 10, 11, 12, 13, 14, 15, 16, 8, 9, 10, 11, 12, 13, 14, 15, 16, 17, 9, 10, 11, 12, 13, 14, 15, 16, 17, 18, 10, 11, 12, 13, 14, 15, 16, 17, 18, 19, 11, 12, 13, 14, 15, 16, 17, 18, 19, 20, 12, 13, 14, 15, 16, 17, 18, 19, 20, 21, 13, 14, 15, 16, 17, 18, 19, 20, 21, 22, 14, 15, 16, 17, 18, 19, 20, 21, 22, 23, 15, 16, 17, 18, 19, 20, 21, 22, 23, 24, 7, 8, 9, 10, 11, 12, 13, 14, 15, 16, 8, 9, 10, 11, 12, 13, 14, 15, 16, 17, 9, 10, 11, 12, 13, 14, 15, 16, 17, 18, 10, 11, 12, 13, 14, 15, 16, 17, 18, 19, 11, 12, 13, 14, 15, 16, 17, 18, 19, 20, 12, 13, 14, 15, 16, 17, 18, 19, 20, 21, 13, 14, 15, 16, 17, 18, 19, 20, 21, 22, 14, 15, 16, 17, 18, 19, 20, 21, 22, 23, 15, 16, 17, 18, 19, 20, 21, 22, 23, 24, 16, 17, 18, 19, 20, 21, 22, 23, 24, 25, 8, 9, 10, 11, 12, 13, 14, 15, 16, 17, 9, 10, 11, 12, 13, 14, 15, 16, 17, 18, 10, 11, 12, 13, 14, 15, 16, 17, 18, 19, 11, 12, 13, 14, 15, 16, 17, 18, 19, 20, 12, 13, 14, 15, 16, 17, 18, 19, 20, 21, 13, 14, 15, 16, 17, 18, 19, 20, 21, 22, 14, 15, 16, 17, 18, 19, 20, 21, 22, 23, 15, 16, 17, 18, 19, 20, 21, 22, 23, 24, 16, 17, 18, 19, 20, 21, 22, 23, 24, 25, 17, 18, 19, 20, 21, 22, 23, 24, 25, 26, 9, 10, 11, 12, 13, 14, 15, 16, 17, 18, 10, 11, 12, 13, 14, 15, 16, 17, 18, 19, 11, 12, 13, 14, 15, 16, 17, 18, 19, 20, 12, 13, 14, 15, 16, 17, 18, 19, 20, 21, 13, 14, 15, 16, 17, 18, 19, 20, 21, 22, 14, 15, 16, 17, 18, 19, 20, 21, 22, 23, 15, 16, 17, 18, 19, 20, 21, 22, 23, 24, 16, 17, 18, 19, 20, 21, 22, 23, 24, 25, 17, 18, 19, 20, 21, 22, 23, 24, 25, 26, 18, 19, 20, 21, 22, 23, 24, 25, 26, 27, 1]\n"
     ]
    }
   ],
   "source": [
    "# 39. Develop a program that calculates the sum of the digits of numbers from 1 to 1000 using list\n",
    "# comprehension.\n",
    "\n",
    "# Calculate the sum of digits for numbers from 1 to 1000 using list comprehension\n",
    "digit_sums = [sum(int(digit) for digit in str(num)) for num in range(1, 1001)]\n",
    "\n",
    "# Print the result\n",
    "print(f\"Sum of Digits for Numbers from 1 to 1000: {digit_sums}\")\n"
   ]
  },
  {
   "cell_type": "code",
   "execution_count": 34,
   "id": "8585a0b9-c7ee-41f7-a339-a157c99fb7b9",
   "metadata": {},
   "outputs": [
    {
     "name": "stdout",
     "output_type": "stream",
     "text": [
      "Prime Palindromic Numbers up to 1000: [2, 3, 5, 7, 11, 101, 131, 151, 181, 191, 313, 353, 373, 383, 727, 757, 787, 797, 919, 929]\n"
     ]
    }
   ],
   "source": [
    "# 40. Write a program that generates a list of prime palindromic numbers using list comprehension.\n",
    "\n",
    "# Function to check if a number is prime\n",
    "def is_prime(n):\n",
    "    if n < 2:\n",
    "        return False\n",
    "    for i in range(2, int(n**0.5) + 1):\n",
    "        if n % i == 0:\n",
    "            return False\n",
    "    return True\n",
    "\n",
    "# Generate a list of prime palindromic numbers using list comprehension\n",
    "prime_palindromic_numbers = [num for num in range(1, 1000) if is_prime(num) and str(num) == str(num)[::-1]]\n",
    "\n",
    "# Print the result\n",
    "print(f\"Prime Palindromic Numbers up to 1000: {prime_palindromic_numbers}\")\n"
   ]
  },
  {
   "cell_type": "code",
   "execution_count": null,
   "id": "a7acaf13-da29-41fc-8b22-ad79c5fd446a",
   "metadata": {},
   "outputs": [],
   "source": []
  }
 ],
 "metadata": {
  "kernelspec": {
   "display_name": "Python 3 (ipykernel)",
   "language": "python",
   "name": "python3"
  },
  "language_info": {
   "codemirror_mode": {
    "name": "ipython",
    "version": 3
   },
   "file_extension": ".py",
   "mimetype": "text/x-python",
   "name": "python",
   "nbconvert_exporter": "python",
   "pygments_lexer": "ipython3",
   "version": "3.10.8"
  }
 },
 "nbformat": 4,
 "nbformat_minor": 5
}
